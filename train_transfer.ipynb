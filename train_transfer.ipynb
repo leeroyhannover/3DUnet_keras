{
 "cells": [
  {
   "cell_type": "markdown",
   "id": "661d56dc-0c46-433b-9b47-f9c72f95fb1f",
   "metadata": {},
   "source": [
    "## train 3D UNet on single molecule dataset with transfer learning"
   ]
  },
  {
   "cell_type": "markdown",
   "id": "d5218664-2c4d-4422-a4d7-3339e1f81559",
   "metadata": {},
   "source": [
    "### load data"
   ]
  },
  {
   "cell_type": "code",
   "execution_count": 5,
   "id": "367c510b-8f9a-4e64-9f63-9d4335b784e9",
   "metadata": {},
   "outputs": [],
   "source": [
    "import os \n",
    "import numpy as np\n",
    "from dataGenerator import imageLoader\n",
    "import keras\n",
    "import matplotlib.pyplot as plt\n",
    "import glob\n",
    "import random"
   ]
  },
  {
   "cell_type": "code",
   "execution_count": 6,
   "id": "caa3cbbe-e8fb-432a-9e75-26f77e76b24e",
   "metadata": {},
   "outputs": [],
   "source": [
    "# visualize\n",
    "def visusalizeIMG(n_slice, test_img, test_msk):\n",
    "    # n_slice = random.randint(0, test_img.shape[2])\n",
    "    plt.figure(figsize=(8, 8))\n",
    "\n",
    "    plt.subplot(121)\n",
    "    plt.imshow(test_img[n_slice,:,:], cmap='gray')\n",
    "    plt.title('focal slice')\n",
    "    plt.subplot(122)\n",
    "    plt.imshow(test_msk[n_slice,:,:], cmap='gray')\n",
    "    plt.title('GT slice')\n",
    "    plt.show()"
   ]
  },
  {
   "cell_type": "code",
   "execution_count": 7,
   "id": "7f28564f-bad7-4bc9-976c-93b6cfb6c56f",
   "metadata": {},
   "outputs": [
    {
     "name": "stdout",
     "output_type": "stream",
     "text": [
      "240\n"
     ]
    }
   ],
   "source": [
    "# specify the dir\n",
    "\n",
    "DATA_PATH = 'E:/EM/demo/3D_Unet_keras/inputData_3channels/'\n",
    "\n",
    "train_img_dir = DATA_PATH + 'train/images/'\n",
    "train_msk_dir = DATA_PATH + 'train/masks/'\n",
    "\n",
    "train_img_list = sorted(glob.glob(train_img_dir + '/*.npy'))\n",
    "train_msk_list = sorted(glob.glob(train_msk_dir + '/*.npy'))\n",
    "\n",
    "num_images = len(train_img_list)\n",
    "print(num_images)"
   ]
  },
  {
   "cell_type": "code",
   "execution_count": 11,
   "id": "7e1fd926-6103-4994-99fb-7375113a722c",
   "metadata": {},
   "outputs": [
    {
     "name": "stdout",
     "output_type": "stream",
     "text": [
      "image shape: (64, 64, 64)\n",
      "before mask: (64, 64, 64, 2)\n",
      "after mask: (64, 64, 64)\n"
     ]
    }
   ],
   "source": [
    "# visualize the images\n",
    "\n",
    "img_num = random.randint(0, num_images-1) # num从1开始\n",
    "test_img = np.load(train_img_list[img_num])\n",
    "test_img = test_img[...,0]\n",
    "print('image shape:', test_img.shape)\n",
    "\n",
    "test_mask = np.load(train_msk_list[img_num])\n",
    "print('before mask:', test_mask.shape)\n",
    "test_mask = np.argmax(test_mask, axis=3)\n",
    "print('after mask:', test_mask.shape)\n"
   ]
  },
  {
   "cell_type": "code",
   "execution_count": 20,
   "id": "861a28a5-6731-4396-8061-9ea16ea116e7",
   "metadata": {},
   "outputs": [
    {
     "name": "stdout",
     "output_type": "stream",
     "text": [
      "current slice: 57\n"
     ]
    },
    {
     "data": {
      "image/png": "[encoded data removed]",
      "text/plain": [
       "<Figure size 576x576 with 2 Axes>"
      ]
     },
     "metadata": {
      "needs_background": "light"
     },
     "output_type": "display_data"
    }
   ],
   "source": [
    "# visualize the images \n",
    "n_slice = random.randint(0, test_mask.shape[2]-1)\n",
    "print('current slice:', n_slice)\n",
    "visusalizeIMG(n_slice, test_img, test_mask)"
   ]
  },
  {
   "cell_type": "markdown",
   "id": "1b12caab-6cab-4733-b0f1-dbe60fbf3cd9",
   "metadata": {},
   "source": [
    "### calculate the weight between labels. useful for weighted dice loss"
   ]
  },
  {
   "cell_type": "code",
   "execution_count": 21,
   "id": "db2f3e9b-d48a-425f-b130-f7d751cb06d0",
   "metadata": {},
   "outputs": [],
   "source": [
    "import pandas as pd\n",
    "\n",
    "columns = ['0', '1']\n",
    "df = pd.DataFrame(columns=columns)\n",
    "\n",
    "train_msk_list = sorted(glob.glob(train_msk_dir + '/*.npy'))\n",
    "\n",
    "for img in range(len(train_msk_list)):\n",
    "    \n",
    "    # print(img)\n",
    "    temp_image = np.load(train_msk_list[img])\n",
    "    temp_image = np.argmax(temp_image, axis=3)  # convert back into images\n",
    "    \n",
    "    val, counts = np.unique(temp_image, return_counts=True) # count labels\n",
    "    zipped = zip(columns, counts)\n",
    "    counts_dict = dict(zipped)\n",
    "    \n",
    "    df = df.append(counts_dict, ignore_index = True)"
   ]
  },
  {
   "cell_type": "code",
   "execution_count": 22,
   "id": "b86f0b9b-5e91-487a-88e6-4b9c64bb27ea",
   "metadata": {},
   "outputs": [
    {
     "name": "stdout",
     "output_type": "stream",
     "text": [
      "0.56 4.4\n"
     ]
    }
   ],
   "source": [
    "# calculate the ratio of different labels\n",
    "\n",
    "label_0 = df['0'].sum()\n",
    "label_1 = df['1'].sum()\n",
    "\n",
    "total_labels = label_0 + label_1\n",
    "n_classes = 2\n",
    "\n",
    "# class weight calculated: n_samples / (n_classes * n_samples_for_class)\n",
    "wt0 = round((total_labels/(n_classes*label_0)), 2) # 小数点后两位\n",
    "wt1 = round((total_labels/(n_classes*label_1)), 2)\n",
    "\n",
    "print(wt0, wt1)"
   ]
  },
  {
   "cell_type": "markdown",
   "id": "e5f1b666-5bfc-4b3b-a4b0-2270aaf674e9",
   "metadata": {},
   "source": [
    "### define the image generator"
   ]
  },
  {
   "cell_type": "code",
   "execution_count": 12,
   "id": "a2271a01-9d89-4930-a363-a67c83d386be",
   "metadata": {},
   "outputs": [
    {
     "name": "stdout",
     "output_type": "stream",
     "text": [
      "train images: 240\n",
      "val images: 30\n",
      "test images: 30\n"
     ]
    }
   ],
   "source": [
    "# data path\n",
    "\n",
    "DATA_PATH = 'E:/EM/demo/3D_Unet_keras/inputData_3channels/'\n",
    "\n",
    "# training\n",
    "train_img_dir = DATA_PATH + 'train/images/'\n",
    "train_msk_dir = DATA_PATH + 'train/masks/'\n",
    "\n",
    "# train_img_list = sorted(glob.glob(train_img_dir + '/*.npy'))\n",
    "# train_msk_list = sorted(glob.glob(train_msk_dir + '/*.npy'))\n",
    "\n",
    "train_img_list = os.listdir(train_img_dir)\n",
    "train_msk_list = os.listdir(train_msk_dir)\n",
    "\n",
    "# validation\n",
    "val_img_dir = DATA_PATH + 'val/images/'\n",
    "val_msk_dir = DATA_PATH + 'val/masks/'\n",
    "\n",
    "# val_img_list = sorted(glob.glob(val_img_dir + '/*.npy'))\n",
    "# val_msk_list = sorted(glob.glob(val_msk_dir + '/*.npy'))\n",
    "val_img_list = os.listdir(val_img_dir)\n",
    "val_msk_list = os.listdir(val_msk_dir)\n",
    "\n",
    "# testing\n",
    "test_img_dir = DATA_PATH + 'test/images/'\n",
    "test_msk_dir = DATA_PATH + 'test/masks/'\n",
    "\n",
    "# test_img_list = sorted(glob.glob(test_img_dir + '/*.npy'))\n",
    "# test_msk_list = sorted(glob.glob(test_msk_dir + '/*.npy'))\n",
    "\n",
    "test_img_list = os.listdir(test_img_dir)\n",
    "test_msk_list = os.listdir(test_msk_dir)\n",
    "\n",
    "print('train images:', len(train_img_list))\n",
    "print('val images:', len(val_img_list))\n",
    "print('test images:', len(test_img_list))"
   ]
  },
  {
   "cell_type": "code",
   "execution_count": 25,
   "id": "b109a38c-951c-4fe4-873c-d907e34ac066",
   "metadata": {},
   "outputs": [],
   "source": [
    "# data generator for training\n",
    "\n",
    "batch_size = 2\n",
    "\n",
    "train_img_datagen = imageLoader(train_img_dir, train_img_list,\n",
    "                               train_msk_dir, train_msk_list, batch_size)\n",
    "\n",
    "val_img_datagen = imageLoader(val_img_dir, val_img_list,\n",
    "                             val_msk_dir, val_msk_list, batch_size)"
   ]
  },
  {
   "cell_type": "code",
   "execution_count": 26,
   "id": "2702cc29-ded8-4636-87af-1859ffd5e135",
   "metadata": {},
   "outputs": [
    {
     "data": {
      "image/png": "[encoded data removed]",
      "text/plain": [
       "<Figure size 576x576 with 2 Axes>"
      ]
     },
     "metadata": {
      "needs_background": "light"
     },
     "output_type": "display_data"
    }
   ],
   "source": [
    "# visualize the data generator\n",
    "\n",
    "img, msk = train_img_datagen.__next__()\n",
    "\n",
    "img_num = random.randint(0, img.shape[0]-1)\n",
    "test_img = img[img_num][...,0]\n",
    "test_mask = msk[img_num] # 第几个stack\n",
    "test_mask = np.argmax(test_mask, axis=3)\n",
    "\n",
    "# n_slice=random.randint(0, test_mask.shape[2])\n",
    "n_slice = 32\n",
    "visusalizeIMG(n_slice, test_mask, test_img)"
   ]
  },
  {
   "cell_type": "markdown",
   "id": "102892dd-3e3f-4562-a6d3-b2cf7a7c4469",
   "metadata": {},
   "source": [
    "### define the loss, metrics and optimizer for training"
   ]
  },
  {
   "cell_type": "code",
   "execution_count": 27,
   "id": "c4ffcafb-6756-459c-bf36-a8a43e944667",
   "metadata": {},
   "outputs": [],
   "source": [
    "wt0, wt1 = 0.5,0.5\n",
    "\n",
    "import segmentation_models_3D as sm\n",
    "\n",
    "dice_loss = sm.losses.DiceLoss(class_weights=np.array([wt0, wt1]))  # default is uniform\n",
    "focal_loss = sm.losses.CategoricalFocalLoss()\n",
    "total_loss = dice_loss + (1* focal_loss)  # works for most segmentation jobs\n",
    "\n",
    "\n",
    "metrics = ['accuracy', sm.metrics.IOUScore(threshold=0.5)]  # metrics for final performance\n",
    "LR = 0.0001\n",
    "optim = keras.optimizers.Adam(LR)"
   ]
  },
  {
   "cell_type": "code",
   "execution_count": 28,
   "id": "a7716950-21f6-4b23-99e7-b5fca27d2bc4",
   "metadata": {},
   "outputs": [],
   "source": [
    "# fit the transfer learning model. hyper param of the models\n",
    "\n",
    "import segmentation_models_3D as sm\n",
    "import tensorflow.keras as k\n",
    "\n",
    "encoder_weights = 'imagenet'\n",
    "BACKBONE = 'vgg16'  # other available models: vgg16, efficientnetb7, inceptionv3, resnet50\n",
    "AKTIV = 'softmax'  \n",
    "patch_size = 64\n",
    "n_classes = 2\n",
    "channels = 3\n",
    "\n",
    "LR = 0.0001\n",
    "optim = k.optimizers.Adam(LR)\n",
    "\n",
    "# Segmentation models losses can be combined together by '+' and scaled by integer or float factor\n",
    "# set class weights for dice_loss (car: 1.; pedestrian: 2.; background: 0.5;)\n",
    "dice_loss = sm.losses.DiceLoss(class_weights=np.array([0.5, 0.5])) # weights for segmentation classes\n",
    "focal_loss = sm.losses.CategoricalFocalLoss()  # handeling the inbalance dataset\n",
    "total_loss = dice_loss + (1 * focal_loss)\n",
    "\n",
    "# actulally total_loss can be imported directly from library\n",
    "# total_loss = sm.losses.binary_focal_dice_loss # or sm.losses.categorical_focal_dice_loss \n",
    "\n",
    "metrics = [sm.metrics.IOUScore(threshold=0.5), sm.metrics.FScore(threshold=0.5)]"
   ]
  },
  {
   "cell_type": "markdown",
   "id": "67e8e14b-3923-4789-a73f-474ed611e3ab",
   "metadata": {},
   "source": [
    "### fit the model"
   ]
  },
  {
   "cell_type": "code",
   "execution_count": 29,
   "id": "4ba20211-859a-4f9f-b24f-578fbaf60a9a",
   "metadata": {},
   "outputs": [],
   "source": [
    "# define the callback \n",
    "\n",
    "# setting checkpoints\n",
    "checkpointer = k.callbacks.ModelCheckpoint('./transfer3D/model/3d_unet_transfer.h5', verbose=1, save_best_only=True)\n",
    "\n",
    "\n",
    "callbacks = [\n",
    "    #k.callbacks.EarlyStopping(patience=10, monitor='val_loss'),\n",
    "    k.callbacks.TensorBoard(log_dir = './transfer3D/tensorBoard')]  # save in new folder in hemera. Also update in neptune"
   ]
  },
  {
   "cell_type": "code",
   "execution_count": null,
   "id": "ce08e46f-aa9e-4c64-b642-8903e8ac22fe",
   "metadata": {},
   "outputs": [],
   "source": [
    "# preprocess the training data\n",
    "# 可能并不需要\n",
    "\n",
    "preprocess_input = sm.get_preprocessing(BACKBONE)\n",
    "X_train_prep = preprocess_input(X_train)  # scale the dataset\n",
    "X_val_prep = preprocess_input(X_val)\n",
    "\n",
    "print(X_train_prep.shape, X_val_prep.shape, Y_train.shape)\n",
    "\n",
    "testImg = X_train_prep[0,...]; testMask = Y_train[0,...]\n",
    "print(testImg.shape)\n",
    "print(np.min(testImg[0,...]))  # 这之后数值rescale了\n",
    "print('before pre:', np.min(X_train), np.max(X_train))\n",
    "print('after pre:', np.min(X_train_prep), np.max(X_train_prep))"
   ]
  },
  {
   "cell_type": "code",
   "execution_count": 31,
   "id": "24072289-a79c-467f-b8c4-20476b242a07",
   "metadata": {
    "collapsed": true,
    "jupyter": {
     "outputs_hidden": true
    },
    "tags": []
   },
   "outputs": [
    {
     "name": "stdout",
     "output_type": "stream",
     "text": [
      "Model: \"model_1\"\n",
      "__________________________________________________________________________________________________\n",
      " Layer (type)                   Output Shape         Param #     Connected to                     \n",
      "==================================================================================================\n",
      " input_3 (InputLayer)           [(None, 64, 64, 64,  0           []                               \n",
      "                                 3)]                                                              \n",
      "                                                                                                  \n",
      " block1_conv1 (Conv3D)          (None, 64, 64, 64,   5248        ['input_3[0][0]']                \n",
      "                                64)                                                               \n",
      "                                                                                                  \n",
      " block1_conv2 (Conv3D)          (None, 64, 64, 64,   110656      ['block1_conv1[0][0]']           \n",
      "                                64)                                                               \n",
      "                                                                                                  \n",
      " block1_pool (MaxPooling3D)     (None, 32, 32, 32,   0           ['block1_conv2[0][0]']           \n",
      "                                64)                                                               \n",
      "                                                                                                  \n",
      " block2_conv1 (Conv3D)          (None, 32, 32, 32,   221312      ['block1_pool[0][0]']            \n",
      "                                128)                                                              \n",
      "                                                                                                  \n",
      " block2_conv2 (Conv3D)          (None, 32, 32, 32,   442496      ['block2_conv1[0][0]']           \n",
      "                                128)                                                              \n",
      "                                                                                                  \n",
      " block2_pool (MaxPooling3D)     (None, 16, 16, 16,   0           ['block2_conv2[0][0]']           \n",
      "                                128)                                                              \n",
      "                                                                                                  \n",
      " block3_conv1 (Conv3D)          (None, 16, 16, 16,   884992      ['block2_pool[0][0]']            \n",
      "                                256)                                                              \n",
      "                                                                                                  \n",
      " block3_conv2 (Conv3D)          (None, 16, 16, 16,   1769728     ['block3_conv1[0][0]']           \n",
      "                                256)                                                              \n",
      "                                                                                                  \n",
      " block3_conv3 (Conv3D)          (None, 16, 16, 16,   1769728     ['block3_conv2[0][0]']           \n",
      "                                256)                                                              \n",
      "                                                                                                  \n",
      " block3_pool (MaxPooling3D)     (None, 8, 8, 8, 256  0           ['block3_conv3[0][0]']           \n",
      "                                )                                                                 \n",
      "                                                                                                  \n",
      " block4_conv1 (Conv3D)          (None, 8, 8, 8, 512  3539456     ['block3_pool[0][0]']            \n",
      "                                )                                                                 \n",
      "                                                                                                  \n",
      " block4_conv2 (Conv3D)          (None, 8, 8, 8, 512  7078400     ['block4_conv1[0][0]']           \n",
      "                                )                                                                 \n",
      "                                                                                                  \n",
      " block4_conv3 (Conv3D)          (None, 8, 8, 8, 512  7078400     ['block4_conv2[0][0]']           \n",
      "                                )                                                                 \n",
      "                                                                                                  \n",
      " block4_pool (MaxPooling3D)     (None, 4, 4, 4, 512  0           ['block4_conv3[0][0]']           \n",
      "                                )                                                                 \n",
      "                                                                                                  \n",
      " block5_conv1 (Conv3D)          (None, 4, 4, 4, 512  7078400     ['block4_pool[0][0]']            \n",
      "                                )                                                                 \n",
      "                                                                                                  \n",
      " block5_conv2 (Conv3D)          (None, 4, 4, 4, 512  7078400     ['block5_conv1[0][0]']           \n",
      "                                )                                                                 \n",
      "                                                                                                  \n",
      " block5_conv3 (Conv3D)          (None, 4, 4, 4, 512  7078400     ['block5_conv2[0][0]']           \n",
      "                                )                                                                 \n",
      "                                                                                                  \n",
      " block5_pool (MaxPooling3D)     (None, 2, 2, 2, 512  0           ['block5_conv3[0][0]']           \n",
      "                                )                                                                 \n",
      "                                                                                                  \n",
      " center_block1_conv (Conv3D)    (None, 2, 2, 2, 512  7077888     ['block5_pool[0][0]']            \n",
      "                                )                                                                 \n",
      "                                                                                                  \n",
      " center_block1_bn (BatchNormali  (None, 2, 2, 2, 512  2048       ['center_block1_conv[0][0]']     \n",
      " zation)                        )                                                                 \n",
      "                                                                                                  \n",
      " center_block1_relu (Activation  (None, 2, 2, 2, 512  0          ['center_block1_bn[0][0]']       \n",
      " )                              )                                                                 \n",
      "                                                                                                  \n",
      " center_block2_conv (Conv3D)    (None, 2, 2, 2, 512  7077888     ['center_block1_relu[0][0]']     \n",
      "                                )                                                                 \n",
      "                                                                                                  \n",
      " center_block2_bn (BatchNormali  (None, 2, 2, 2, 512  2048       ['center_block2_conv[0][0]']     \n",
      " zation)                        )                                                                 \n",
      "                                                                                                  \n",
      " center_block2_relu (Activation  (None, 2, 2, 2, 512  0          ['center_block2_bn[0][0]']       \n",
      " )                              )                                                                 \n",
      "                                                                                                  \n",
      " decoder_stage0_upsampling (UpS  (None, 4, 4, 4, 512  0          ['center_block2_relu[0][0]']     \n",
      " ampling3D)                     )                                                                 \n",
      "                                                                                                  \n",
      " decoder_stage0_concat (Concate  (None, 4, 4, 4, 102  0          ['decoder_stage0_upsampling[0][0]\n",
      " nate)                          4)                               ',                               \n",
      "                                                                  'block5_conv3[0][0]']           \n",
      "                                                                                                  \n",
      " decoder_stage0a_conv (Conv3D)  (None, 4, 4, 4, 256  7077888     ['decoder_stage0_concat[0][0]']  \n",
      "                                )                                                                 \n",
      "                                                                                                  \n",
      " decoder_stage0a_bn (BatchNorma  (None, 4, 4, 4, 256  1024       ['decoder_stage0a_conv[0][0]']   \n",
      " lization)                      )                                                                 \n",
      "                                                                                                  \n",
      " decoder_stage0a_relu (Activati  (None, 4, 4, 4, 256  0          ['decoder_stage0a_bn[0][0]']     \n",
      " on)                            )                                                                 \n",
      "                                                                                                  \n",
      " decoder_stage0b_conv (Conv3D)  (None, 4, 4, 4, 256  1769472     ['decoder_stage0a_relu[0][0]']   \n",
      "                                )                                                                 \n",
      "                                                                                                  \n",
      " decoder_stage0b_bn (BatchNorma  (None, 4, 4, 4, 256  1024       ['decoder_stage0b_conv[0][0]']   \n",
      " lization)                      )                                                                 \n",
      "                                                                                                  \n",
      " decoder_stage0b_relu (Activati  (None, 4, 4, 4, 256  0          ['decoder_stage0b_bn[0][0]']     \n",
      " on)                            )                                                                 \n",
      "                                                                                                  \n",
      " decoder_stage1_upsampling (UpS  (None, 8, 8, 8, 256  0          ['decoder_stage0b_relu[0][0]']   \n",
      " ampling3D)                     )                                                                 \n",
      "                                                                                                  \n",
      " decoder_stage1_concat (Concate  (None, 8, 8, 8, 768  0          ['decoder_stage1_upsampling[0][0]\n",
      " nate)                          )                                ',                               \n",
      "                                                                  'block4_conv3[0][0]']           \n",
      "                                                                                                  \n",
      " decoder_stage1a_conv (Conv3D)  (None, 8, 8, 8, 128  2654208     ['decoder_stage1_concat[0][0]']  \n",
      "                                )                                                                 \n",
      "                                                                                                  \n",
      " decoder_stage1a_bn (BatchNorma  (None, 8, 8, 8, 128  512        ['decoder_stage1a_conv[0][0]']   \n",
      " lization)                      )                                                                 \n",
      "                                                                                                  \n",
      " decoder_stage1a_relu (Activati  (None, 8, 8, 8, 128  0          ['decoder_stage1a_bn[0][0]']     \n",
      " on)                            )                                                                 \n",
      "                                                                                                  \n",
      " decoder_stage1b_conv (Conv3D)  (None, 8, 8, 8, 128  442368      ['decoder_stage1a_relu[0][0]']   \n",
      "                                )                                                                 \n",
      "                                                                                                  \n",
      " decoder_stage1b_bn (BatchNorma  (None, 8, 8, 8, 128  512        ['decoder_stage1b_conv[0][0]']   \n",
      " lization)                      )                                                                 \n",
      "                                                                                                  \n",
      " decoder_stage1b_relu (Activati  (None, 8, 8, 8, 128  0          ['decoder_stage1b_bn[0][0]']     \n",
      " on)                            )                                                                 \n",
      "                                                                                                  \n",
      " decoder_stage2_upsampling (UpS  (None, 16, 16, 16,   0          ['decoder_stage1b_relu[0][0]']   \n",
      " ampling3D)                     128)                                                              \n",
      "                                                                                                  \n",
      " decoder_stage2_concat (Concate  (None, 16, 16, 16,   0          ['decoder_stage2_upsampling[0][0]\n",
      " nate)                          384)                             ',                               \n",
      "                                                                  'block3_conv3[0][0]']           \n",
      "                                                                                                  \n",
      " decoder_stage2a_conv (Conv3D)  (None, 16, 16, 16,   663552      ['decoder_stage2_concat[0][0]']  \n",
      "                                64)                                                               \n",
      "                                                                                                  \n",
      " decoder_stage2a_bn (BatchNorma  (None, 16, 16, 16,   256        ['decoder_stage2a_conv[0][0]']   \n",
      " lization)                      64)                                                               \n",
      "                                                                                                  \n",
      " decoder_stage2a_relu (Activati  (None, 16, 16, 16,   0          ['decoder_stage2a_bn[0][0]']     \n",
      " on)                            64)                                                               \n",
      "                                                                                                  \n",
      " decoder_stage2b_conv (Conv3D)  (None, 16, 16, 16,   110592      ['decoder_stage2a_relu[0][0]']   \n",
      "                                64)                                                               \n",
      "                                                                                                  \n",
      " decoder_stage2b_bn (BatchNorma  (None, 16, 16, 16,   256        ['decoder_stage2b_conv[0][0]']   \n",
      " lization)                      64)                                                               \n",
      "                                                                                                  \n",
      " decoder_stage2b_relu (Activati  (None, 16, 16, 16,   0          ['decoder_stage2b_bn[0][0]']     \n",
      " on)                            64)                                                               \n",
      "                                                                                                  \n",
      " decoder_stage3_upsampling (UpS  (None, 32, 32, 32,   0          ['decoder_stage2b_relu[0][0]']   \n",
      " ampling3D)                     64)                                                               \n",
      "                                                                                                  \n",
      " decoder_stage3_concat (Concate  (None, 32, 32, 32,   0          ['decoder_stage3_upsampling[0][0]\n",
      " nate)                          192)                             ',                               \n",
      "                                                                  'block2_conv2[0][0]']           \n",
      "                                                                                                  \n",
      " decoder_stage3a_conv (Conv3D)  (None, 32, 32, 32,   165888      ['decoder_stage3_concat[0][0]']  \n",
      "                                32)                                                               \n",
      "                                                                                                  \n",
      " decoder_stage3a_bn (BatchNorma  (None, 32, 32, 32,   128        ['decoder_stage3a_conv[0][0]']   \n",
      " lization)                      32)                                                               \n",
      "                                                                                                  \n",
      " decoder_stage3a_relu (Activati  (None, 32, 32, 32,   0          ['decoder_stage3a_bn[0][0]']     \n",
      " on)                            32)                                                               \n",
      "                                                                                                  \n",
      " decoder_stage3b_conv (Conv3D)  (None, 32, 32, 32,   27648       ['decoder_stage3a_relu[0][0]']   \n",
      "                                32)                                                               \n",
      "                                                                                                  \n",
      " decoder_stage3b_bn (BatchNorma  (None, 32, 32, 32,   128        ['decoder_stage3b_conv[0][0]']   \n",
      " lization)                      32)                                                               \n",
      "                                                                                                  \n",
      " decoder_stage3b_relu (Activati  (None, 32, 32, 32,   0          ['decoder_stage3b_bn[0][0]']     \n",
      " on)                            32)                                                               \n",
      "                                                                                                  \n",
      " decoder_stage4_upsampling (UpS  (None, 64, 64, 64,   0          ['decoder_stage3b_relu[0][0]']   \n",
      " ampling3D)                     32)                                                               \n",
      "                                                                                                  \n",
      " decoder_stage4a_conv (Conv3D)  (None, 64, 64, 64,   13824       ['decoder_stage4_upsampling[0][0]\n",
      "                                16)                              ']                               \n",
      "                                                                                                  \n",
      " decoder_stage4a_bn (BatchNorma  (None, 64, 64, 64,   64         ['decoder_stage4a_conv[0][0]']   \n",
      " lization)                      16)                                                               \n",
      "                                                                                                  \n",
      " decoder_stage4a_relu (Activati  (None, 64, 64, 64,   0          ['decoder_stage4a_bn[0][0]']     \n",
      " on)                            16)                                                               \n",
      "                                                                                                  \n",
      " decoder_stage4b_conv (Conv3D)  (None, 64, 64, 64,   6912        ['decoder_stage4a_relu[0][0]']   \n",
      "                                16)                                                               \n",
      "                                                                                                  \n",
      " decoder_stage4b_bn (BatchNorma  (None, 64, 64, 64,   64         ['decoder_stage4b_conv[0][0]']   \n",
      " lization)                      16)                                                               \n",
      "                                                                                                  \n",
      " decoder_stage4b_relu (Activati  (None, 64, 64, 64,   0          ['decoder_stage4b_bn[0][0]']     \n",
      " on)                            16)                                                               \n",
      "                                                                                                  \n",
      " final_conv (Conv3D)            (None, 64, 64, 64,   866         ['decoder_stage4b_relu[0][0]']   \n",
      "                                2)                                                                \n",
      "                                                                                                  \n",
      " softmax (Activation)           (None, 64, 64, 64,   0           ['final_conv[0][0]']             \n",
      "                                2)                                                                \n",
      "                                                                                                  \n",
      "==================================================================================================\n",
      "Total params: 71,232,674\n",
      "Trainable params: 71,228,642\n",
      "Non-trainable params: 4,032\n",
      "__________________________________________________________________________________________________\n",
      "None\n",
      "(None, 64, 64, 64, 3)\n",
      "(None, 64, 64, 64, 2)\n"
     ]
    }
   ],
   "source": [
    "# define the model\n",
    "\n",
    "model = sm.Unet(BACKBONE, classes=n_classes, \n",
    "                input_shape=(patch_size, patch_size, patch_size, channels), # 64，64，64，3. vgg is used for 3 channel images\n",
    "                encoder_weights=encoder_weights,  # encoder initialized with imagenet\n",
    "                activation=AKTIV)\n",
    "\n",
    "model.compile(optimizer = optim, loss=total_loss, metrics=metrics)\n",
    "# print(model.summary())\n",
    "print(model.input_shape)\n",
    "print(model.output_shape)"
   ]
  },
  {
   "cell_type": "markdown",
   "id": "aad7a1da-e1f0-4e59-aa39-f4ba2f536113",
   "metadata": {},
   "source": [
    "### train and save model"
   ]
  },
  {
   "cell_type": "code",
   "execution_count": 32,
   "id": "28f77588-2e15-47bf-95bc-e1711fde6b8f",
   "metadata": {},
   "outputs": [],
   "source": [
    "steps_per_epoch = len(train_img_list) // batch_size\n",
    "val_steps_per_epoch = len(val_img_list) // batch_size"
   ]
  },
  {
   "cell_type": "code",
   "execution_count": 33,
   "id": "2721decb-3564-42c5-abb1-b8b847c2652e",
   "metadata": {},
   "outputs": [
    {
     "name": "stdout",
     "output_type": "stream",
     "text": [
      "Epoch 1/10\n",
      "120/120 [==============================] - 93s 617ms/step - loss: 0.6829 - iou_score: 0.6139 - f1-score: 0.7316 - val_loss: 0.8154 - val_iou_score: 0.4926 - val_f1-score: 0.6348\n",
      "Epoch 2/10\n",
      "120/120 [==============================] - 72s 602ms/step - loss: 0.6593 - iou_score: 0.6370 - f1-score: 0.7524 - val_loss: 0.7479 - val_iou_score: 0.5167 - val_f1-score: 0.6562\n",
      "Epoch 3/10\n",
      "120/120 [==============================] - 73s 604ms/step - loss: 0.6577 - iou_score: 0.6379 - f1-score: 0.7533 - val_loss: 0.7190 - val_iou_score: 0.5334 - val_f1-score: 0.6705\n",
      "Epoch 4/10\n",
      "120/120 [==============================] - 71s 591ms/step - loss: 0.6572 - iou_score: 0.6382 - f1-score: 0.7537 - val_loss: 0.6923 - val_iou_score: 0.5648 - val_f1-score: 0.6972\n",
      "Epoch 5/10\n",
      "120/120 [==============================] - 71s 590ms/step - loss: 0.6569 - iou_score: 0.6384 - f1-score: 0.7539 - val_loss: 0.6683 - val_iou_score: 0.6157 - val_f1-score: 0.7386\n",
      "Epoch 6/10\n",
      "120/120 [==============================] - 74s 614ms/step - loss: 0.6568 - iou_score: 0.6387 - f1-score: 0.7542 - val_loss: 0.6749 - val_iou_score: 0.5928 - val_f1-score: 0.7204\n",
      "Epoch 7/10\n",
      "120/120 [==============================] - 76s 634ms/step - loss: 0.6566 - iou_score: 0.6388 - f1-score: 0.7543 - val_loss: 0.6610 - val_iou_score: 0.6275 - val_f1-score: 0.7476\n",
      "Epoch 8/10\n",
      "120/120 [==============================] - 76s 634ms/step - loss: 0.6564 - iou_score: 0.6389 - f1-score: 0.7544 - val_loss: 0.6748 - val_iou_score: 0.5956 - val_f1-score: 0.7225\n",
      "Epoch 9/10\n",
      "120/120 [==============================] - 74s 615ms/step - loss: 0.6564 - iou_score: 0.6390 - f1-score: 0.7545 - val_loss: 0.6658 - val_iou_score: 0.6154 - val_f1-score: 0.7385\n",
      "Epoch 10/10\n",
      "120/120 [==============================] - 71s 593ms/step - loss: 0.6563 - iou_score: 0.6390 - f1-score: 0.7546 - val_loss: 0.6754 - val_iou_score: 0.5957 - val_f1-score: 0.7227\n"
     ]
    }
   ],
   "source": [
    "\n",
    "history = model.fit(train_img_datagen,\n",
    "                   steps_per_epoch=steps_per_epoch,\n",
    "                   epochs=10,\n",
    "                   verbose=1, # ??\n",
    "                   validation_data=val_img_datagen,\n",
    "                   validation_steps=val_steps_per_epoch,)"
   ]
  },
  {
   "cell_type": "code",
   "execution_count": 34,
   "id": "bf5eab3e-ab98-45de-a3de-8db7de9f7994",
   "metadata": {},
   "outputs": [],
   "source": [
    "# save the model\n",
    "\n",
    "MODEL_PATH = 'E:/EM/demo/3D_Unet_keras/model/'\n",
    "\n",
    "model.save(MODEL_PATH + 'transferVGG_3d' + '_10_' + '.hdf5')"
   ]
  },
  {
   "cell_type": "markdown",
   "id": "54716ff2-aab0-4ee8-8b41-031f90673cad",
   "metadata": {},
   "source": [
    "### visualize the training process"
   ]
  },
  {
   "cell_type": "code",
   "execution_count": 35,
   "id": "ec0b0319-918a-4bc8-92e3-d684d76b07e1",
   "metadata": {},
   "outputs": [
    {
     "data": {
      "image/png": "[encoded data removed]",
      "text/plain": [
       "<Figure size 432x288 with 1 Axes>"
      ]
     },
     "metadata": {
      "needs_background": "light"
     },
     "output_type": "display_data"
    },
    {
     "data": {
      "image/png": "[encoded data removed]",
      "text/plain": [
       "<Figure size 432x288 with 1 Axes>"
      ]
     },
     "metadata": {
      "needs_background": "light"
     },
     "output_type": "display_data"
    }
   ],
   "source": [
    "# visualize the loss and IOU loss\n",
    "\n",
    "loss = history.history['loss']\n",
    "val_loss = history.history['val_loss']\n",
    "epochs = range(1, len(loss) + 1)\n",
    "plt.plot(epochs, loss, 'y', label='Training loss')\n",
    "plt.plot(epochs, val_loss, 'r', label='Validation loss')\n",
    "plt.title('Training and validation loss')\n",
    "plt.xlabel('Epochs')\n",
    "plt.ylabel('Loss')\n",
    "plt.legend()\n",
    "plt.show()\n",
    "\n",
    "acc = history.history['iou_score']\n",
    "val_acc = history.history['val_iou_score']\n",
    "\n",
    "plt.plot(epochs, acc, 'y', label='Training IOU')\n",
    "plt.plot(epochs, val_acc, 'r', label='Validation IOU')\n",
    "plt.title('Training and validation IOU')\n",
    "plt.xlabel('Epochs')\n",
    "plt.ylabel('IOU')\n",
    "plt.legend()\n",
    "plt.show() # Save model"
   ]
  },
  {
   "cell_type": "markdown",
   "id": "7159d05d-7eed-44c3-aa92-6933fe761ebe",
   "metadata": {},
   "source": [
    "### predict the test dataset for IOU"
   ]
  },
  {
   "cell_type": "code",
   "execution_count": 8,
   "id": "acc8c969-de0b-4ed8-8f20-d2574c864b98",
   "metadata": {},
   "outputs": [],
   "source": [
    "# load in the model\n",
    "\n",
    "MODEL_PATH = 'E:/EM/demo/3D_Unet_keras/model/'\n",
    "\n",
    "from keras.models import load_model\n",
    "my_model = load_model(MODEL_PATH + 'transferVGG_3d' + '_10_' + '.hdf5', compile=False)"
   ]
  },
  {
   "cell_type": "code",
   "execution_count": 13,
   "id": "85221116-ebad-4ee6-ab32-bd50b04d743a",
   "metadata": {},
   "outputs": [],
   "source": [
    "# for prediction verify IoU\n",
    "\n",
    "from keras.metrics import MeanIoU\n",
    "\n",
    "batch_size = 4  # prediction可以随意开,但也要考虑资源的问题\n",
    "\n",
    "test_img_datagen = imageLoader(test_img_dir, test_img_list,\n",
    "                              test_msk_dir, test_msk_list, batch_size)"
   ]
  },
  {
   "cell_type": "code",
   "execution_count": 14,
   "id": "b35299db-5973-46e1-8606-f76669a9c3ae",
   "metadata": {},
   "outputs": [
    {
     "name": "stdout",
     "output_type": "stream",
     "text": [
      "before: (4, 64, 64, 64, 2)\n",
      "after: (4, 64, 64, 64)\n"
     ]
    }
   ],
   "source": [
    "# verify the generator\n",
    "\n",
    "test_image_batch, test_mask_batch = test_img_datagen.__next__()  # 同时给出image和mask\n",
    "print('before:', test_mask_batch.shape)\n",
    "test_mask_batch_argmax = np.argmax(test_mask_batch, axis=4) # convert onehot back to integer\n",
    "print('after:', test_mask_batch_argmax.shape)"
   ]
  },
  {
   "cell_type": "code",
   "execution_count": 15,
   "id": "98541280-7990-4781-8345-a60243c75d82",
   "metadata": {},
   "outputs": [
    {
     "name": "stdout",
     "output_type": "stream",
     "text": [
      "1/1 [==============================] - 10s 10s/step\n",
      "1/1 [==============================] - 0s 310ms/step\n"
     ]
    }
   ],
   "source": [
    "# predict\n",
    "\n",
    "test_pred_batch = my_model.predict(test_image_batch)\n",
    "test_pred_batch = my_model.predict(test_image_batch)\n",
    "test_pred_batch_argmax = np.argmax(test_pred_batch, axis=4)"
   ]
  },
  {
   "cell_type": "code",
   "execution_count": 16,
   "id": "fcfe503b-82c5-4b8c-87d2-52e64f2bdead",
   "metadata": {},
   "outputs": [
    {
     "name": "stdout",
     "output_type": "stream",
     "text": [
      "Mean IoU = 0.59330374\n"
     ]
    }
   ],
   "source": [
    "n_classes = 2\n",
    "IOU_keras = MeanIoU(num_classes=n_classes)  \n",
    "IOU_keras.update_state(test_pred_batch_argmax, test_mask_batch_argmax)\n",
    "print(\"Mean IoU =\", IOU_keras.result().numpy())"
   ]
  },
  {
   "cell_type": "markdown",
   "id": "bb80085c-7e27-4561-9b2d-b9e34156d3d6",
   "metadata": {},
   "source": [
    "### predict the test dataset of multiple image"
   ]
  },
  {
   "cell_type": "code",
   "execution_count": 17,
   "id": "4adf5195-ce88-4f12-86c1-f2008345fa5f",
   "metadata": {},
   "outputs": [
    {
     "name": "stdout",
     "output_type": "stream",
     "text": [
      "1/1 [==============================] - 1s 945ms/step\n"
     ]
    }
   ],
   "source": [
    "img_num = 15  # the name in test dataset\n",
    "\n",
    "test_img = np.load(DATA_PATH + '/test/images/image_'+str(img_num)+'.npy')\n",
    "\n",
    "test_mask = np.load(DATA_PATH + '/test/masks/mask_'+str(img_num)+'.npy')\n",
    "test_mask_argmax=np.argmax(test_mask, axis=3)\n",
    "\n",
    "test_img_input = np.expand_dims(test_img, axis=0)\n",
    "test_prediction = my_model.predict(test_img_input)\n",
    "test_prediction_argmax=np.argmax(test_prediction, axis=4)[0,:,:,:]"
   ]
  },
  {
   "cell_type": "code",
   "execution_count": 19,
   "id": "dc33b5b2-8e8f-468a-bd21-c1152c44f171",
   "metadata": {},
   "outputs": [
    {
     "data": {
      "image/png": "[encoded data removed]",
      "text/plain": [
       "<Figure size 576x576 with 3 Axes>"
      ]
     },
     "metadata": {
      "needs_background": "light"
     },
     "output_type": "display_data"
    }
   ],
   "source": [
    "# visualize\n",
    "\n",
    "n_slice = 10\n",
    "\n",
    "plt.figure(figsize=(8, 8))\n",
    "plt.subplot(231)\n",
    "plt.title('Testing Image')\n",
    "plt.imshow(test_img[n_slice,:,:,0], cmap='gray')\n",
    "plt.subplot(232)\n",
    "plt.title('Testing Label')\n",
    "plt.imshow(test_mask_argmax[n_slice,:,:], cmap='gray')\n",
    "plt.subplot(233)\n",
    "plt.title('Prediction on test image')\n",
    "plt.imshow(test_prediction_argmax[n_slice,:,:], cmap='gray')\n",
    "plt.show()"
   ]
  },
  {
   "cell_type": "code",
   "execution_count": null,
   "id": "6aecc769-23ff-4aa8-bc47-93436daead0b",
   "metadata": {},
   "outputs": [],
   "source": []
  }
 ],
 "metadata": {
  "kernelspec": {
   "display_name": "Python 3 (ipykernel)",
   "language": "python",
   "name": "python3"
  },
  "language_info": {
   "codemirror_mode": {
    "name": "ipython",
    "version": 3
   },
   "file_extension": ".py",
   "mimetype": "text/x-python",
   "name": "python",
   "nbconvert_exporter": "python",
   "pygments_lexer": "ipython3",
   "version": "3.7.13"
  }
 },
 "nbformat": 4,
 "nbformat_minor": 5
}
